{
  "nbformat": 4,
  "nbformat_minor": 0,
  "metadata": {
    "colab": {
      "name": "Analise_Voo.ipynb",
      "provenance": [],
      "mount_file_id": "1H-E1f5qKzm7_W7JxR1aX9nU3dZ2VzY18",
      "authorship_tag": "ABX9TyMmJ8+NVbkq2cWIlfATwh9G",
      "include_colab_link": true
    },
    "kernelspec": {
      "name": "python3",
      "display_name": "Python 3"
    }
  },
  "cells": [
    {
      "cell_type": "markdown",
      "metadata": {
        "id": "view-in-github",
        "colab_type": "text"
      },
      "source": [
        "<a href=\"https://colab.research.google.com/github/fernanda993/Voos_Cancelados/blob/main/Analise_Voo.ipynb\" target=\"_parent\"><img src=\"https://colab.research.google.com/assets/colab-badge.svg\" alt=\"Open In Colab\"/></a>"
      ]
    },
    {
      "cell_type": "markdown",
      "metadata": {
        "id": "OHbKwArzmH-E"
      },
      "source": [
        "Analisando voos cancelados no EUA"
      ]
    },
    {
      "cell_type": "code",
      "metadata": {
        "id": "qHeQWOGtmF-C"
      },
      "source": [
        "import pandas as pd"
      ],
      "execution_count": null,
      "outputs": []
    },
    {
      "cell_type": "code",
      "metadata": {
        "id": "f3xWM_-smOBx",
        "outputId": "f172fdb5-7845-4226-a3dc-a43d2d536292",
        "colab": {
          "base_uri": "https://localhost:8080/"
        }
      },
      "source": [
        "companhias_aerias = pd.read_csv('/content/drive/My Drive/arquivo/airlines.csv')\n",
        "aeroportos = pd.read_csv('/content/drive/My Drive/arquivo/airports.csv')\n",
        "voos = pd.read_csv('/content/drive/My Drive/arquivo/flights.csv')"
      ],
      "execution_count": null,
      "outputs": [
        {
          "output_type": "stream",
          "text": [
            "/usr/local/lib/python3.6/dist-packages/IPython/core/interactiveshell.py:2718: DtypeWarning: Columns (7,8) have mixed types.Specify dtype option on import or set low_memory=False.\n",
            "  interactivity=interactivity, compiler=compiler, result=result)\n"
          ],
          "name": "stderr"
        }
      ]
    },
    {
      "cell_type": "code",
      "metadata": {
        "id": "dWw4E1JwvQUW",
        "outputId": "ac08a2e2-b817-40df-9b9e-594451de2e93",
        "colab": {
          "base_uri": "https://localhost:8080/",
          "height": 166
        }
      },
      "source": [
        ""
      ],
      "execution_count": 19,
      "outputs": [
        {
          "output_type": "error",
          "ename": "NameError",
          "evalue": "ignored",
          "traceback": [
            "\u001b[0;31m---------------------------------------------------------------------------\u001b[0m",
            "\u001b[0;31mNameError\u001b[0m                                 Traceback (most recent call last)",
            "\u001b[0;32m<ipython-input-19-5c17bbb26da7>\u001b[0m in \u001b[0;36m<module>\u001b[0;34m()\u001b[0m\n\u001b[0;32m----> 1\u001b[0;31m \u001b[0munir_df\u001b[0m \u001b[0;34m=\u001b[0m \u001b[0mmerge\u001b[0m\u001b[0;34m(\u001b[0m\u001b[0mvoos\u001b[0m\u001b[0;34m,\u001b[0m \u001b[0maeroportos\u001b[0m\u001b[0;34m,\u001b[0m \u001b[0mhow\u001b[0m\u001b[0;34m=\u001b[0m\u001b[0;34m'outer'\u001b[0m\u001b[0;34m)\u001b[0m\u001b[0;34m\u001b[0m\u001b[0;34m\u001b[0m\u001b[0m\n\u001b[0m",
            "\u001b[0;31mNameError\u001b[0m: name 'merge' is not defined"
          ]
        }
      ]
    }
  ]
}